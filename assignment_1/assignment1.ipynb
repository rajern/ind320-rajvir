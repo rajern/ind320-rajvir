{
 "cells": [
  {
   "cell_type": "markdown",
   "id": "f6fa505a",
   "metadata": {},
   "source": [
    "# Project work, part 1 - Dashboard basics\n",
    "\n",
    "# General\n",
    "\n",
    "- All project work in **IND320** will result in personal hand-ins and online apps.\n",
    "\n",
    "1. **A Jupyter Notebook** run locally on your computer (later with access to online and local databases).\n",
    "   - This will be your basic development and documentation platform.\n",
    "   - Must include a brief description of **AI usage**.\n",
    "   - Must include a **300–500 word log** describing the compulsory work (including both Jupyter Notebook and Streamlit experience).\n",
    "   - Must include **links** to your public **GitHub repository** and **Streamlit app** (see below) for the compulsory work.\n",
    "   - Document headings should be clear and usable for navigation during development.\n",
    "   - All code blocks must include enough **comments** to be understandable and reproducible if someone inherits your project.\n",
    "   - All code blocks must be **run before export to PDF** so messages and plots are shown. In addition, add the `.ipynb` file to the GitHub repository where you have your Streamlit project.\n",
    "\n",
    "2. **A Streamlit app** running from `https://[yourproject].streamlit.app/`.\n",
    "   - This will be an online version of the project, accessing data that has been exported to CSV format (later, also an online database).\n",
    "   - The code, hosted at GitHub, must include relevant comments from the Jupyter Notebook and further comments regarding Streamlit usage.\n",
    "\n",
    "- There are **four parts** in the project work, building on each other and resulting in a final portfolio and app to be presented at the end of the semester.\n",
    "- **Co-operation is applauded**, and the use of **AI tools** is encouraged.\n",
    "\n",
    "# Evaluation\n",
    "\n",
    "- The uploaded **PDF**, **GitHub repository**, and **Streamlit app** will be assessed according to the recipe above.\n",
    "  - By one fellow student in **peer review**.\n",
    "  - By **Liland** or **Kjæreng**.\n",
    "- TA/Teacher’s feedback will be **short and instructive**, regarding points of improvement and fulfilment of requirements.\n",
    "- **Final fulfilment** of the course will be based on the **four rounds of hand-ins** seen as a whole.\n",
    "\n",
    "---\n",
    "\n",
    "# Tasks\n"
   ]
  },
  {
   "cell_type": "markdown",
   "id": "b69c03e6",
   "metadata": {},
   "source": [
    "## GitHub and Streamlit.app accounts\n",
    "\n",
    "- Prepare a GitHub account and create a **public repository** for your project work.  \n",
    "  Addresses at `streamlit.app` must be unique, so include your GitHub username or similar in the repository name.  \n",
    "  Report the Streamlit address and GitHub repository address in the Jupyter Notebook.\n",
    "- Log in to **[share.streamlit.io](https://share.streamlit.io/)** using your GitHub account.\n",
    "- Create a **minimum working example** of a Streamlit app, push it to GitHub, and ensure it works at `https://[yourproject].streamlit.app/`.\n"
   ]
  },
  {
   "cell_type": "markdown",
   "id": "0af19eef",
   "metadata": {},
   "source": [
    "## Jupyter Notebook\n",
    "\n",
    "- Read the supplied **CSV file** using **Pandas**.\n",
    "- Print its contents in a relevant way.\n",
    "- Plot **each column separately**.\n",
    "- Plot **all columns together**. Consider how to make this natural, given that the scales are different.\n",
    "- Remember to fill in the **log** and **AI** mentioned in the *General* section above."
   ]
  },
  {
   "cell_type": "markdown",
   "id": "6d8a3ac5",
   "metadata": {},
   "source": [
    "## Streamlit app\n",
    "\n",
    "- Create a Streamlit app including:\n",
    "  - `requirements.txt` (for package dependencies)\n",
    "  - **Four pages** (with dummy headers and test contents for now)\n",
    "    1. **Front/Home page** with a **sidebar menu** containing navigation options to the other pages.\n",
    "    2. **Second page**\n",
    "       - A **table** showing the imported data (see below).\n",
    "       - Use the row-wise `LineChartColumn()` to display the **first month** of the data series.  \n",
    "         There should be **one row in the table for each column** of the imported data.\n",
    "    3. **Third page**\n",
    "       - A **plot** of the imported data (see below), including header, axis titles, and other relevant formatting.\n",
    "       - A **drop-down menu** (`st.selectbox`) choosing any single column in the CSV **or all columns together**.\n",
    "       - A **selection slider** (`st.select_slider`) to select a subset of the months. Defaults should be the **first month**.\n",
    "  - Data should be read from a **local CSV file** (`open-meteo-subset.csv`, available in Files in Canvas), **using caching** for app speed."
   ]
  }
 ],
 "metadata": {
  "language_info": {
   "name": "python"
  }
 },
 "nbformat": 4,
 "nbformat_minor": 5
}
